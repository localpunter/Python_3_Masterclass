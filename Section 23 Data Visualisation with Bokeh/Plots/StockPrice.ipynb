{
 "cells": [
  {
   "cell_type": "code",
   "execution_count": 2,
   "metadata": {},
   "outputs": [],
   "source": [
    "#>>> import bokeh.sampledata\n",
    "#>>> bokeh.sampledata.download()\n",
    " \n",
    "#Importing the necessary modules and tools\n",
    "import numpy as np\n",
    " \n",
    "from bokeh.plotting import figure, show, output_file\n",
    "from bokeh.sampledata.stocks import AAPL, GOOG, IBM, MSFT\n",
    " \n",
    "#Function for converting dates to the proper format\n",
    "def datetime(x):\n",
    "    return np.array(x, dtype = np.datetime64)\n",
    " \n",
    "#Creating a new plot with various optional parameters\n",
    "p = figure(x_axis_type = \"datetime\", title = \"Stock Prices\")\n",
    " \n",
    "#Setting other optional parameters\n",
    "p.grid.grid_line_alpha = 0.3\n",
    "p.xaxis.axis_label = 'Date'\n",
    "p.yaxis.axis_label = 'Price'\n",
    " \n",
    "#Converting dates to the proper format and drawing the lines\n",
    "p.line(datetime(AAPL['date']), AAPL['adj_close'], color = '#A6CEE3', legend = 'AAPL')\n",
    "p.line(datetime(GOOG['date']), GOOG['adj_close'], color = '#B2DF8A', legend = 'GOOG')\n",
    "p.line(datetime(IBM['date']), IBM['adj_close'], color = '#33A02C', legend = 'IBM')\n",
    "p.line(datetime(MSFT['date']), MSFT['adj_close'], color = '#FB9A99', legend = 'MSFT')\n",
    " \n",
    "#Setting the location of the legend on the plot\n",
    "p.legend.location = \"top_left\"\n",
    " \n",
    "#Creating the output HTML file in the current folder\n",
    "output_file(\"stocks.html\", title = \"Stocks Comparison\")\n",
    " \n",
    "#Displaying the final result\n",
    "show(p)\n"
   ]
  }
 ],
 "metadata": {
  "kernelspec": {
   "display_name": "Python 3",
   "language": "python",
   "name": "python3"
  },
  "language_info": {
   "codemirror_mode": {
    "name": "ipython",
    "version": 3
   },
   "file_extension": ".py",
   "mimetype": "text/x-python",
   "name": "python",
   "nbconvert_exporter": "python",
   "pygments_lexer": "ipython3",
   "version": "3.7.2"
  }
 },
 "nbformat": 4,
 "nbformat_minor": 2
}
