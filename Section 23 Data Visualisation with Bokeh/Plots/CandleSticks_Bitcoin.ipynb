{
 "cells": [
  {
   "cell_type": "code",
   "execution_count": 1,
   "metadata": {},
   "outputs": [],
   "source": [
    "#Importing the necessary modules and tools\n",
    "from math import pi\n",
    " \n",
    "import pandas\n",
    " \n",
    "from bokeh.plotting import figure, show, output_file\n",
    " \n",
    "#Reading the HTML data into a Pandas dataframe\n",
    "df = pandas.read_html(\"https://coinmarketcap.com/currencies/bitcoin/historical-data/?start=20190220&end=20190320\")[0][::-1]\n",
    " \n",
    "#Converting the Date column to the proper datetime format\n",
    "#e.g. from \"Mar 20, 2019\" to \"2019-03-20\"\n",
    "df[\"Date\"] = pandas.to_datetime(df[\"Date\"])\n",
    " \n",
    "#Renaming the columns to eliminate any issues caused by the asterisk(s)\n",
    "df.rename(index = str, columns = {\"Open*\": \"Open\"}, inplace = True)\n",
    "df.rename(index = str, columns = {\"Close**\": \"Close\"}, inplace = True)\n",
    " \n",
    "#Comparing the Open and Close daily prices to set the candle color\n",
    "inc = df.Close > df.Open\n",
    "dec = df.Open > df.Close\n",
    " \n",
    "#Setting the width of each candlestick to half a day (in milliseconds)\n",
    "w = 12 * 60 * 60 * 1000\n",
    " \n",
    "#Defining the optional interactive tools for the plot\n",
    "tools = \"pan,wheel_zoom,box_zoom,reset,save\"\n",
    " \n",
    "#Creating a new plot with various optional parameters\n",
    "p = figure(x_axis_type = \"datetime\", tools = tools, plot_width = 1200, title = \"Bitcoin Candlesticks\")\n",
    " \n",
    "#Setting other optional parameters for visual styling\n",
    "p.xaxis.major_label_orientation = pi / 4\n",
    " \n",
    "p.grid.grid_line_alpha = 0.3\n",
    " \n",
    "#Drawing the vertical bars (candlesticks) and setting visual properties\n",
    "#segment: https://bokeh.pydata.org/en/latest/docs/reference/plotting.html#bokeh.plotting.figure.Figure.segment\n",
    "p.segment(df.Date, df.High, df.Date, df.Low, color = \"black\")\n",
    " \n",
    "p.vbar(df.Date[inc], w, df.Open[inc], df.Close[inc], fill_color = \"#D5E1DD\", line_color = \"black\")\n",
    " \n",
    "p.vbar(df.Date[dec], w, df.Open[dec], df.Close[dec], fill_color = \"#F2583E\", line_color = \"black\")\n",
    " \n",
    "#Creating the output HTML file in the current folder\n",
    "output_file(\"bitcoin.html\", title = \"Bitcoin Candlesticks\")\n",
    " \n",
    "#Displaying the final result\n",
    "show(p)\n"
   ]
  }
 ],
 "metadata": {
  "kernelspec": {
   "display_name": "Python 3",
   "language": "python",
   "name": "python3"
  },
  "language_info": {
   "codemirror_mode": {
    "name": "ipython",
    "version": 3
   },
   "file_extension": ".py",
   "mimetype": "text/x-python",
   "name": "python",
   "nbconvert_exporter": "python",
   "pygments_lexer": "ipython3",
   "version": "3.7.2"
  }
 },
 "nbformat": 4,
 "nbformat_minor": 2
}
