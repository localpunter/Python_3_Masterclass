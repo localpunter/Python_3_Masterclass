{
 "cells": [
  {
   "cell_type": "code",
   "execution_count": 5,
   "metadata": {},
   "outputs": [],
   "source": [
    "from bokeh.plotting import figure, output_file, show\n",
    "\n",
    "x = [10, 20, 30, 40, 50, 60, 70, 90]\n",
    "y = [11, 12, 14, 15, 16, 17, 18, 21]\n",
    "\n",
    "output_file(\"line.html\")\n",
    "\n",
    "p = figure(title = \"Basic Line Plot\", x_axis_label = \"x-axis\", y_axis_label = \"y-axis\")\n",
    "\n",
    "p.line(x, y, legend = \"Price\", line_width = 3)\n",
    "\n",
    "show(p)"
   ]
  },
  {
   "cell_type": "code",
   "execution_count": null,
   "metadata": {},
   "outputs": [],
   "source": []
  }
 ],
 "metadata": {
  "kernelspec": {
   "display_name": "Python 3",
   "language": "python",
   "name": "python3"
  },
  "language_info": {
   "codemirror_mode": {
    "name": "ipython",
    "version": 3
   },
   "file_extension": ".py",
   "mimetype": "text/x-python",
   "name": "python",
   "nbconvert_exporter": "python",
   "pygments_lexer": "ipython3",
   "version": "3.7.2"
  }
 },
 "nbformat": 4,
 "nbformat_minor": 2
}
