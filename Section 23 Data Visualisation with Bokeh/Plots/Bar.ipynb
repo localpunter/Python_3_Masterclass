{
 "cells": [
  {
   "cell_type": "code",
   "execution_count": 25,
   "metadata": {},
   "outputs": [],
   "source": [
    "#Importing the necessary modules and tools\n",
    "from bokeh.models import ColumnDataSource\n",
    "from bokeh.palettes import Set3_10, Spectral6, Spectral10, Spectral11\n",
    "from bokeh.plotting import figure, output_file, show\n",
    "from bokeh.transform import factor_cmap\n",
    " \n",
    "import pandas\n",
    " \n",
    "#Reading the Excel data into a Pandas dataframe\n",
    "top10 = pandas.read_excel(\"C:\\\\Users\\\\local_4nmktoc\\\\Documents\\\\Coding\\\\Python\\\\Python_3_MasterClass\\\\Section 23 Data Visualisation with Bokeh\\\\Plots\\\\top10.xlsx\")\n",
    " \n",
    "#Creating the output HTML file in the current folder\n",
    "output_file(\"bar.html\")\n",
    " \n",
    "#Referencing the two columns that contain the necessary data\n",
    "language = top10[\"Language\"]\n",
    "rating = top10[\"Ratings\"]\n",
    " \n",
    "#At the most basic level, a ColumnDataSource is simply a mapping between column names and lists of data.\n",
    "#The ColumnDataSource takes a data parameter which is a dict, \n",
    "#with string column names as keys and lists (or arrays) of data values as values. \n",
    "#If one positional argument is passed in to the ColumnDataSource initializer, it will be taken as data.\n",
    "#Once the ColumnDataSource has been created, it can be passed into the source parameter of plotting methods\n",
    "#which allows you to pass a column’s name as a stand in for the data values\n",
    "#Source: https://bokeh.pydata.org/en/latest/docs/user_guide/data.html#columndatasource\n",
    "source = ColumnDataSource(data = dict(language = language, rating = rating))\n",
    " \n",
    "#Creating a new plot with various optional parameters\n",
    "#Ranges: https://bokeh.pydata.org/en/latest/docs/user_guide/plotting.html#setting-ranges\n",
    "p = figure(x_range = language, plot_height = 800, toolbar_location = None, title = \"Top 10 Programming Languages\")\n",
    " \n",
    "#Drawing the vertical bars and setting visual properties\n",
    "#vbar: https://bokeh.pydata.org/en/latest/docs/reference/models/glyphs/vbar.html\n",
    "#factor_cmap: https://bokeh.pydata.org/en/latest/docs/reference/transform.html#bokeh.transform.factor_cmap\n",
    "p.vbar(x = 'language', top = 'rating', width = 0.7, source = source, legend = \"Languages\",\n",
    "       line_color = 'black', fill_color = factor_cmap('language', palette = Set3_10, factors = language))\n",
    " \n",
    "#Setting other optional parameters\n",
    "p.xgrid.grid_line_color = None\n",
    "# p.ygrid.grid_line_color = \"black\"\n",
    "p.y_range.start = 0\n",
    "p.y_range.end = 16\n",
    "p.legend.orientation = \"horizontal\"\n",
    "p.legend.location = \"top_right\"\n",
    " \n",
    "#Displaying the final result\n",
    "show(p)"
   ]
  },
  {
   "cell_type": "code",
   "execution_count": null,
   "metadata": {},
   "outputs": [],
   "source": []
  }
 ],
 "metadata": {
  "kernelspec": {
   "display_name": "Python 3",
   "language": "python",
   "name": "python3"
  },
  "language_info": {
   "codemirror_mode": {
    "name": "ipython",
    "version": 3
   },
   "file_extension": ".py",
   "mimetype": "text/x-python",
   "name": "python",
   "nbconvert_exporter": "python",
   "pygments_lexer": "ipython3",
   "version": "3.7.2"
  }
 },
 "nbformat": 4,
 "nbformat_minor": 2
}
